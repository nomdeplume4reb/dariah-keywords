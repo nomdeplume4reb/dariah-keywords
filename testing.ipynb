{
 "cells": [
  {
   "cell_type": "code",
   "execution_count": 3,
   "id": "b4233b8e",
   "metadata": {},
   "outputs": [
    {
     "ename": "ERROR",
     "evalue": "Error in parse(text = x, srcfile = src): <text>:1:5: unexpected symbol\n1: ssh bryarach\n        ^\n",
     "output_type": "error",
     "traceback": [
      "Error in parse(text = x, srcfile = src): <text>:1:5: unexpected symbol\n1: ssh bryarach\n        ^\nTraceback:\n"
     ]
    }
   ],
   "source": [
    "ssh bryarach@puhti.csc.fi"
   ]
  },
  {
   "cell_type": "code",
   "execution_count": 2,
   "id": "b7f28bee",
   "metadata": {},
   "outputs": [
    {
     "data": {
      "text/html": [
       "'test'"
      ],
      "text/latex": [
       "'test'"
      ],
      "text/markdown": [
       "'test'"
      ],
      "text/plain": [
       "[1] \"test\""
      ]
     },
     "metadata": {},
     "output_type": "display_data"
    }
   ],
   "source": [
    "test"
   ]
  },
  {
   "cell_type": "code",
   "execution_count": null,
   "id": "66064c7e",
   "metadata": {},
   "outputs": [],
   "source": []
  }
 ],
 "metadata": {
  "kernelspec": {
   "display_name": "R",
   "language": "R",
   "name": "ir"
  },
  "language_info": {
   "name": ""
  }
 },
 "nbformat": 4,
 "nbformat_minor": 5
}
